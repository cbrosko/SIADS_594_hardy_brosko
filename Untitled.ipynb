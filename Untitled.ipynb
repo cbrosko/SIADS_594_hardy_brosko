{
 "cells": [
  {
   "cell_type": "code",
   "execution_count": 2,
   "metadata": {},
   "outputs": [],
   "source": [
    "import pandas as pd\n",
    "import os\n",
    "\n",
    "cwd = os.getcwd()"
   ]
  },
  {
   "cell_type": "code",
   "execution_count": 6,
   "metadata": {},
   "outputs": [
    {
     "data": {
      "text/html": [
       "<div>\n",
       "<style scoped>\n",
       "    .dataframe tbody tr th:only-of-type {\n",
       "        vertical-align: middle;\n",
       "    }\n",
       "\n",
       "    .dataframe tbody tr th {\n",
       "        vertical-align: top;\n",
       "    }\n",
       "\n",
       "    .dataframe thead th {\n",
       "        text-align: right;\n",
       "    }\n",
       "</style>\n",
       "<table border=\"1\" class=\"dataframe\">\n",
       "  <thead>\n",
       "    <tr style=\"text-align: right;\">\n",
       "      <th></th>\n",
       "      <th>original_text</th>\n",
       "      <th>label</th>\n",
       "    </tr>\n",
       "  </thead>\n",
       "  <tbody>\n",
       "    <tr>\n",
       "      <th>133675</th>\n",
       "      <td>Bill Bailey -LRB- born Mark Bailey 13 January ...</td>\n",
       "      <td>1</td>\n",
       "    </tr>\n",
       "    <tr>\n",
       "      <th>76310</th>\n",
       "      <td>Marx believed , especially after the Revolutio...</td>\n",
       "      <td>1</td>\n",
       "    </tr>\n",
       "    <tr>\n",
       "      <th>300148</th>\n",
       "      <td>The better equipped Limited trim level adds 17...</td>\n",
       "      <td>0</td>\n",
       "    </tr>\n",
       "    <tr>\n",
       "      <th>241386</th>\n",
       "      <td>A walk and cycle path , starts on the northern...</td>\n",
       "      <td>0</td>\n",
       "    </tr>\n",
       "    <tr>\n",
       "      <th>11422</th>\n",
       "      <td>Offin is a commune in the Pas-de-Calais depart...</td>\n",
       "      <td>1</td>\n",
       "    </tr>\n",
       "    <tr>\n",
       "      <th>344167</th>\n",
       "      <td>1860 - W.K. Dickson , Scottish inventor -LRB- ...</td>\n",
       "      <td>0</td>\n",
       "    </tr>\n",
       "    <tr>\n",
       "      <th>167887</th>\n",
       "      <td>Sarah Natochenny replaced Taylor in season nin...</td>\n",
       "      <td>1</td>\n",
       "    </tr>\n",
       "    <tr>\n",
       "      <th>268658</th>\n",
       "      <td>Nobuyuki Oishi -LRB- born 12 September 1939 -R...</td>\n",
       "      <td>0</td>\n",
       "    </tr>\n",
       "    <tr>\n",
       "      <th>320922</th>\n",
       "      <td>Brig is located close to the Swiss-Italian bor...</td>\n",
       "      <td>0</td>\n",
       "    </tr>\n",
       "    <tr>\n",
       "      <th>245505</th>\n",
       "      <td>The most common nuclear fuels are uranium and ...</td>\n",
       "      <td>0</td>\n",
       "    </tr>\n",
       "  </tbody>\n",
       "</table>\n",
       "</div>"
      ],
      "text/plain": [
       "                                            original_text  label\n",
       "133675  Bill Bailey -LRB- born Mark Bailey 13 January ...      1\n",
       "76310   Marx believed , especially after the Revolutio...      1\n",
       "300148  The better equipped Limited trim level adds 17...      0\n",
       "241386  A walk and cycle path , starts on the northern...      0\n",
       "11422   Offin is a commune in the Pas-de-Calais depart...      1\n",
       "344167  1860 - W.K. Dickson , Scottish inventor -LRB- ...      0\n",
       "167887  Sarah Natochenny replaced Taylor in season nin...      1\n",
       "268658  Nobuyuki Oishi -LRB- born 12 September 1939 -R...      0\n",
       "320922  Brig is located close to the Swiss-Italian bor...      0\n",
       "245505  The most common nuclear fuels are uranium and ...      0"
      ]
     },
     "execution_count": 6,
     "metadata": {},
     "output_type": "execute_result"
    }
   ],
   "source": [
    "#import data\n",
    "data_dir = cwd + '\\\\data\\\\'\n",
    "df_train_raw = pd.read_csv(data_dir+'WikiLarge_Train.csv')\n",
    "df_train_raw.sample(10)"
   ]
  },
  {
   "cell_type": "code",
   "execution_count": null,
   "metadata": {},
   "outputs": [],
   "source": []
  }
 ],
 "metadata": {
  "kernelspec": {
   "display_name": "Python 3",
   "language": "python",
   "name": "python3"
  },
  "language_info": {
   "codemirror_mode": {
    "name": "ipython",
    "version": 3
   },
   "file_extension": ".py",
   "mimetype": "text/x-python",
   "name": "python",
   "nbconvert_exporter": "python",
   "pygments_lexer": "ipython3",
   "version": "3.7.9"
  }
 },
 "nbformat": 4,
 "nbformat_minor": 4
}
